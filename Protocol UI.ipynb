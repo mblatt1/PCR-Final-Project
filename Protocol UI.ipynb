{
 "cells": [
  {
   "cell_type": "markdown",
   "metadata": {},
   "source": [
    "# Protocol UI\n",
    "Martha Blatt and Mary Lynn Dekold"
   ]
  },
  {
   "cell_type": "code",
   "execution_count": 22,
   "metadata": {},
   "outputs": [],
   "source": [
    "%matplotlib inline\n",
    "\n",
    "import ipywidgets as widgets\n",
    "from ipywidgets import interactive\n",
    "from IPython.display import display\n",
    "import numpy as np\n",
    "import matplotlib.pyplot as plt\n",
    "import pandas as pd"
   ]
  },
  {
   "cell_type": "markdown",
   "metadata": {},
   "source": [
    "# Define User Interface Function"
   ]
  },
  {
   "cell_type": "code",
   "execution_count": 23,
   "metadata": {},
   "outputs": [],
   "source": [
    "# Create a user interface to set parameters for both heaters\n",
    "\n",
    "def PCR_thermal_cycle(filename):\n",
    "\n",
    "    filename_text = widgets.Text(value=filename, description=\"Filename\")\n",
    "\n",
    "    heat_rate = widgets.FloatSlider(value = 0.2, min=0.1, max=0.25, step=0.01, description='Heat Rate')\n",
    "    cool_rate = widgets.FloatSlider(value = 0.2, min=0.1, max=0.25, step=0.01, description='Cooling Rate')\n",
    "    cycles = widgets.IntSlider(value=3, min=1, max=30, description=\"PCR Cycles\")\n",
    "\n",
    "    int_denaturation_label1 = widgets.Label('Initial Denaturation', layout=widgets.Layout(width='100 px'))\n",
    "    int_denaturation_label2 = widgets.Label('degrees C', layout=widgets.Layout(width='80px'))\n",
    "    int_denaturation_label3 = widgets.Label('seconds', layout=widgets.Layout(width='80px'))\n",
    "    int_denaturation_temp = widgets.FloatSlider(value=94, min=92, max=98, step=0.1, description='Temperature', readout_format='0.1f')\n",
    "    int_denaturation_dur = widgets.BoundedIntText(value=90, min=60, max=120, step=1, description='Duration')\n",
    "    int_denaturation = widgets.HBox([int_denaturation_label1, int_denaturation_temp,  int_denaturation_label2 , int_denaturation_dur, int_denaturation_label3])\n",
    "    \n",
    "    denaturation_label1 = widgets.Label('Denaturation', layout=widgets.Layout(width='80 px'))\n",
    "    denaturation_label2 = widgets.Label('degrees C', layout=widgets.Layout(width='80px'))\n",
    "    denaturation_label3 = widgets.Label('seconds', layout=widgets.Layout(width='80px'))\n",
    "    denaturation_temp = widgets.FloatSlider(value=94, min=92, max=98, step=0.1, description='Temperature', readout_format='0.1f')\n",
    "    denaturation_dur = widgets.BoundedIntText(value=60, min=30, max=120, step=1, description='Duration')\n",
    "    denaturation = widgets.HBox([denaturation_label1, denaturation_temp,  denaturation_label2 , denaturation_dur, denaturation_label3])\n",
    "\n",
    "    annealing_label1 = widgets.Label('Annealing', layout=widgets.Layout(width='80 px'))\n",
    "    annealing_label2 = widgets.Label('degrees C', layout=widgets.Layout(width='80px'))\n",
    "    annealing_label3 = widgets.Label('seconds', layout=widgets.Layout(width='80px'))\n",
    "    annealing_temp = widgets.FloatSlider(value=60, min=50, max=65, step=0.1, description='Temperature', readout_format='0.1f')\n",
    "    annealing_dur = widgets.BoundedIntText(value=60, min=30, max=120, step=1, description='Duration')\n",
    "    annealing = widgets.HBox([annealing_label1, annealing_temp,annealing_label2, annealing_dur, annealing_label3])\n",
    "\n",
    "    extension_label1 = widgets.Label('Extension', layout=widgets.Layout(width='80 px'))\n",
    "    extension_label2= widgets.Label('degrees C', layout=widgets.Layout(width='80px'))\n",
    "    extension_label3 = widgets.Label('seconds', layout=widgets.Layout(width='80px'))\n",
    "    extension_temp = widgets.FloatSlider(value=72, min=68, max=72, step=0.1, description='Temperature', readout_format='0.1f')\n",
    "    extension_dur = widgets.BoundedIntText(value=90, min=30, max=180, step=1, description='Duration')\n",
    "    extension = widgets.HBox([extension_label1, extension_temp, extension_label2, extension_dur, extension_label3])\n",
    "    \n",
    "    fin_extension_label1 = widgets.Label('Final Extension', layout=widgets.Layout(width='120 px'))\n",
    "    fin_extension_label2= widgets.Label('degrees C', layout=widgets.Layout(width='80px'))\n",
    "    fin_extension_label3 = widgets.Label('seconds', layout=widgets.Layout(width='80px'))\n",
    "    fin_extension_temp = widgets.FloatSlider(value=72, min=68, max=72, step=0.1, description='Temperature', readout_format='0.1f')\n",
    "    fin_extension_dur = widgets.BoundedIntText(value=90, min=30, max=300, step=1, description='Duration')\n",
    "    fin_extension = widgets.HBox([fin_extension_label1, fin_extension_temp, fin_extension_label2, fin_extension_dur, fin_extension_label3])\n",
    "\n",
    "    def create_setpoint_trajectory(\n",
    "            filename_text,\n",
    "            heat_rate, cool_rate, cycles,\n",
    "            int_denaturation_temp, int_denaturation_dur,\n",
    "            denaturation_temp, denaturation_dur, \n",
    "            annealing_temp, annealing_dur,\n",
    "            extension_temp, extension_dur,\n",
    "            fin_extension_temp, fin_extension_dur):\n",
    "        Ta = 22\n",
    "        tp = [0]\n",
    "        Tp = [Ta]   \n",
    "\n",
    "        for k in range(0, cycles):\n",
    "            \n",
    "            #execute initial denaturation\n",
    "            if k == 0:\n",
    "                # initial denaturation\n",
    "                tp.append(tp[-1] + (int_denaturation_temp - Tp[-1]) / heat_rate)\n",
    "                Tp.append(int_denaturation_temp)\n",
    "                tp.append(tp[-1] + int_denaturation_dur)\n",
    "                Tp.append(int_denaturation_temp)\n",
    "                \n",
    "                \n",
    "                # annealing\n",
    "                tp.append(tp[-1] - (annealing_temp - denaturation_temp) / cool_rate)\n",
    "                Tp.append(annealing_temp)\n",
    "                tp.append(tp[-1] + annealing_dur)\n",
    "                Tp.append(annealing_temp)\n",
    "\n",
    "                # extension\n",
    "                tp.append(tp[-1] + (extension_temp - annealing_temp) / heat_rate)\n",
    "                Tp.append(extension_temp)\n",
    "                tp.append(tp[-1] + extension_dur)\n",
    "                Tp.append(extension_temp)\n",
    "            \n",
    "            #execute final extension\n",
    "            elif k == cycles-1:\n",
    "                # denaturation\n",
    "                tp.append(tp[-1] + (denaturation_temp - Tp[-1]) / heat_rate)\n",
    "                Tp.append(denaturation_temp)\n",
    "                tp.append(tp[-1] + denaturation_dur)\n",
    "                Tp.append(denaturation_temp)\n",
    "\n",
    "                # annealing\n",
    "                tp.append(tp[-1] - (annealing_temp - denaturation_temp) / cool_rate)\n",
    "                Tp.append(annealing_temp)\n",
    "                tp.append(tp[-1] + annealing_dur)\n",
    "                Tp.append(annealing_temp)\n",
    "\n",
    "                # final extension\n",
    "                tp.append(tp[-1] + (fin_extension_temp - annealing_temp) / heat_rate)\n",
    "                Tp.append(fin_extension_temp)\n",
    "                tp.append(tp[-1] + fin_extension_dur)\n",
    "                Tp.append(fin_extension_temp)\n",
    "            \n",
    "            #complete a normal cycle\n",
    "            else:\n",
    "                # denaturation\n",
    "                tp.append(tp[-1] + (denaturation_temp - Tp[-1]) / heat_rate)\n",
    "                Tp.append(denaturation_temp)\n",
    "                tp.append(tp[-1] + denaturation_dur)\n",
    "                Tp.append(denaturation_temp)\n",
    "\n",
    "                # annealing\n",
    "                tp.append(tp[-1] - (annealing_temp - denaturation_temp) / cool_rate)\n",
    "                Tp.append(annealing_temp)\n",
    "                tp.append(tp[-1] + annealing_dur)\n",
    "                Tp.append(annealing_temp)\n",
    "\n",
    "                # extension\n",
    "                tp.append(tp[-1] + (extension_temp - annealing_temp) / heat_rate)\n",
    "                Tp.append(extension_temp)\n",
    "                tp.append(tp[-1] + extension_dur)\n",
    "                Tp.append(extension_temp)\n",
    "            \n",
    "            \n",
    "\n",
    "        tp.append(tp[-1] - (Ta - Tp[-1]) / cool_rate)\n",
    "        Tp.append(Ta)\n",
    "        fig, ax = plt.subplots(1, 1, figsize=(1 + max(tp)/500, 5))\n",
    "        ax.plot(tp, Tp)\n",
    "        ax.set_xlabel('time [sec] ')\n",
    "        ax.set_ylabel('temperature [deg C]')\n",
    "        ax.set_title('PCR Temperature Program')\n",
    "        ax.plot(tp, Tp, 'r.', ms=3)\n",
    "        ax.grid(True)\n",
    "        df = pd.DataFrame()\n",
    "        df['tp'] = tp\n",
    "        df['Tp'] = Tp\n",
    "        df.to_csv(filename_text)\n",
    "\n",
    "    display(filename_text)\n",
    "    display(heat_rate)\n",
    "    display(cool_rate)\n",
    "    display(cycles)\n",
    "    display(int_denaturation)\n",
    "    display(denaturation)\n",
    "    display(annealing)\n",
    "    display(extension)\n",
    "    display(fin_extension)\n",
    "\n",
    "    out = widgets.interactive_output(create_setpoint_trajectory, {\n",
    "        'filename_text': filename_text,\n",
    "        'heat_rate': heat_rate, \n",
    "        'cool_rate': cool_rate,\n",
    "        'cycles': cycles,\n",
    "        'int_denaturation_temp' : int_denaturation_temp,\n",
    "        'int_denaturation_dur' : int_denaturation_dur,\n",
    "        'denaturation_temp': denaturation_temp,\n",
    "        'denaturation_dur': denaturation_dur,\n",
    "        'annealing_temp': annealing_temp,\n",
    "        'annealing_dur': annealing_dur,\n",
    "        'extension_temp': extension_temp,\n",
    "        'extension_dur': extension_dur,\n",
    "        'fin_extension_temp': fin_extension_temp,\n",
    "        'fin_extension_dur': fin_extension_dur,\n",
    "        })\n",
    "\n",
    "    display(out)"
   ]
  },
  {
   "cell_type": "markdown",
   "metadata": {},
   "source": [
    "# Input PCR Thermal Protocols and Store in a .csv File"
   ]
  },
  {
   "cell_type": "code",
   "execution_count": 24,
   "metadata": {},
   "outputs": [
    {
     "name": "stdout",
     "output_type": "stream",
     "text": [
      "Please enter a file name with a .csv extension\n",
      "Enter a file name:test.csv\n"
     ]
    },
    {
     "data": {
      "application/vnd.jupyter.widget-view+json": {
       "model_id": "3b4f2cf0c68e4fe09c557924498e40ef",
       "version_major": 2,
       "version_minor": 0
      },
      "text/plain": [
       "Text(value='pcr/test.csv', description='Filename')"
      ]
     },
     "metadata": {},
     "output_type": "display_data"
    },
    {
     "data": {
      "application/vnd.jupyter.widget-view+json": {
       "model_id": "b7486e59d8444740ae62f3fdbb26010f",
       "version_major": 2,
       "version_minor": 0
      },
      "text/plain": [
       "FloatSlider(value=0.2, description='Heat Rate', max=0.25, min=0.1, step=0.01)"
      ]
     },
     "metadata": {},
     "output_type": "display_data"
    },
    {
     "data": {
      "application/vnd.jupyter.widget-view+json": {
       "model_id": "27f8c33f0eae4c989d769b5c56442244",
       "version_major": 2,
       "version_minor": 0
      },
      "text/plain": [
       "FloatSlider(value=0.2, description='Cooling Rate', max=0.25, min=0.1, step=0.01)"
      ]
     },
     "metadata": {},
     "output_type": "display_data"
    },
    {
     "data": {
      "application/vnd.jupyter.widget-view+json": {
       "model_id": "9aac1469f7514aa6b8e90b1e660a1ab5",
       "version_major": 2,
       "version_minor": 0
      },
      "text/plain": [
       "IntSlider(value=3, description='PCR Cycles', max=30, min=1)"
      ]
     },
     "metadata": {},
     "output_type": "display_data"
    },
    {
     "data": {
      "application/vnd.jupyter.widget-view+json": {
       "model_id": "08dfa196fa6f44c9b15e789f15fb9751",
       "version_major": 2,
       "version_minor": 0
      },
      "text/plain": [
       "HBox(children=(Label(value='Initial Denaturation', layout=Layout(width='100 px')), FloatSlider(value=94.0, des…"
      ]
     },
     "metadata": {},
     "output_type": "display_data"
    },
    {
     "data": {
      "application/vnd.jupyter.widget-view+json": {
       "model_id": "3316ca3e3b4644ea8a4df2e6e2ef21e2",
       "version_major": 2,
       "version_minor": 0
      },
      "text/plain": [
       "HBox(children=(Label(value='Denaturation', layout=Layout(width='80 px')), FloatSlider(value=94.0, description=…"
      ]
     },
     "metadata": {},
     "output_type": "display_data"
    },
    {
     "data": {
      "application/vnd.jupyter.widget-view+json": {
       "model_id": "7f2a9f05f50c42ed9ca4d7c90766e005",
       "version_major": 2,
       "version_minor": 0
      },
      "text/plain": [
       "HBox(children=(Label(value='Annealing', layout=Layout(width='80 px')), FloatSlider(value=60.0, description='Te…"
      ]
     },
     "metadata": {},
     "output_type": "display_data"
    },
    {
     "data": {
      "application/vnd.jupyter.widget-view+json": {
       "model_id": "79084a17fa564b049657969881a855c6",
       "version_major": 2,
       "version_minor": 0
      },
      "text/plain": [
       "HBox(children=(Label(value='Extension', layout=Layout(width='80 px')), FloatSlider(value=72.0, description='Te…"
      ]
     },
     "metadata": {},
     "output_type": "display_data"
    },
    {
     "data": {
      "application/vnd.jupyter.widget-view+json": {
       "model_id": "b59b6a47083d4c61a849dcaca12f2659",
       "version_major": 2,
       "version_minor": 0
      },
      "text/plain": [
       "HBox(children=(Label(value='Final Extension', layout=Layout(width='120 px')), FloatSlider(value=72.0, descript…"
      ]
     },
     "metadata": {},
     "output_type": "display_data"
    },
    {
     "data": {
      "application/vnd.jupyter.widget-view+json": {
       "model_id": "f287381a882a4d94a16457d32164ed62",
       "version_major": 2,
       "version_minor": 0
      },
      "text/plain": [
       "Output()"
      ]
     },
     "metadata": {},
     "output_type": "display_data"
    }
   ],
   "source": [
    "print(\"Please enter a file name with a .csv extension\")\n",
    "userinput= input('Enter a file name:')\n",
    "filename = 'pcr/'+ userinput\n",
    "\n",
    "\n",
    "PCR_thermal_cycle(filename)"
   ]
  },
  {
   "cell_type": "code",
   "execution_count": null,
   "metadata": {},
   "outputs": [],
   "source": []
  }
 ],
 "metadata": {
  "kernelspec": {
   "display_name": "Python 3",
   "language": "python",
   "name": "python3"
  },
  "language_info": {
   "codemirror_mode": {
    "name": "ipython",
    "version": 3
   },
   "file_extension": ".py",
   "mimetype": "text/x-python",
   "name": "python",
   "nbconvert_exporter": "python",
   "pygments_lexer": "ipython3",
   "version": "3.7.4"
  }
 },
 "nbformat": 4,
 "nbformat_minor": 2
}
